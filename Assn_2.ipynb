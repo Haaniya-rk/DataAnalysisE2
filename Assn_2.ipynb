{
  "nbformat": 4,
  "nbformat_minor": 0,
  "metadata": {
    "colab": {
      "provenance": []
    },
    "kernelspec": {
      "name": "python3",
      "display_name": "Python 3"
    },
    "language_info": {
      "name": "python"
    }
  },
  "cells": [
    {
      "cell_type": "code",
      "execution_count": 1,
      "metadata": {
        "colab": {
          "base_uri": "https://localhost:8080/"
        },
        "id": "PK7lpXucml80",
        "outputId": "2b451161-1bd2-4c32-c815-cc1b52abd12f"
      },
      "outputs": [
        {
          "output_type": "stream",
          "name": "stdout",
          "text": [
            "8\n",
            "100\n",
            "0.08\n"
          ]
        }
      ],
      "source": [
        "print ((3 + 1) * 2)\n",
        "print ((4 + 6) ** 2)\n",
        "print (((3 + 1) * 2)/ (4 + 6) ** 2)"
      ]
    },
    {
      "cell_type": "code",
      "source": [
        "x = 5\n",
        "y = ((x ** 2) + 1)\n",
        "\n",
        "print (y)"
      ],
      "metadata": {
        "colab": {
          "base_uri": "https://localhost:8080/"
        },
        "id": "HNv7_MqnnFrB",
        "outputId": "bae2a9b9-3418-45b8-cf9c-5f6bc323e5f6"
      },
      "execution_count": 2,
      "outputs": [
        {
          "output_type": "stream",
          "name": "stdout",
          "text": [
            "26\n"
          ]
        }
      ]
    },
    {
      "cell_type": "code",
      "source": [
        "a = 5\n",
        "b = 10\n",
        "c = 20\n",
        "x = -1\n",
        "y = ( (a * x) ** 2 + (b * x) + c)\n",
        "\n",
        "print (y)"
      ],
      "metadata": {
        "colab": {
          "base_uri": "https://localhost:8080/"
        },
        "id": "JljNoZ7nnXS5",
        "outputId": "225444c0-9af2-4dac-fea1-e338c29d1b28"
      },
      "execution_count": 5,
      "outputs": [
        {
          "output_type": "stream",
          "name": "stdout",
          "text": [
            "35\n"
          ]
        }
      ]
    },
    {
      "cell_type": "code",
      "source": [
        "x = 50\n",
        "x = 3 * x - 50\n",
        "y = ( (x / x) ** 2 )\n",
        "\n",
        "print (y)"
      ],
      "metadata": {
        "colab": {
          "base_uri": "https://localhost:8080/"
        },
        "id": "eIOqqLi6nqrw",
        "outputId": "5c31f9e8-a4b1-47bc-ffa9-2016fdea2cfc"
      },
      "execution_count": 8,
      "outputs": [
        {
          "output_type": "stream",
          "name": "stdout",
          "text": [
            "1.0\n"
          ]
        }
      ]
    },
    {
      "cell_type": "markdown",
      "source": [
        "# Lists and tuples"
      ],
      "metadata": {
        "id": "-KjVEtrln7f3"
      }
    },
    {
      "cell_type": "code",
      "source": [
        "x = [10, 8, 20, 6, 30]\n",
        "print (x [2])\n",
        "\n",
        "x = (5, 2, 1)\n",
        "print (x [-1])\n",
        "\n",
        "x = [(5, 2, 1), (1, 3, 3), (0, -1, -2)]\n",
        "print ( x [-1])\n",
        "\n",
        "x = []\n",
        "x.append (5)\n",
        "x.append ( (1, 2))\n",
        "x.append ( [4, 5, 6])\n",
        "print (x)"
      ],
      "metadata": {
        "colab": {
          "base_uri": "https://localhost:8080/"
        },
        "id": "ywYIm1Akn4Wc",
        "outputId": "71f30ab0-c10b-4826-afc0-36c2537faaf2"
      },
      "execution_count": 15,
      "outputs": [
        {
          "output_type": "stream",
          "name": "stdout",
          "text": [
            "20\n",
            "1\n",
            "(0, -1, -2)\n",
            "[5, (1, 2), [4, 5, 6]]\n"
          ]
        }
      ]
    },
    {
      "cell_type": "markdown",
      "source": [
        "# Packages: math and numpy"
      ],
      "metadata": {
        "id": "Q-CWlC27piVb"
      }
    },
    {
      "cell_type": "code",
      "source": [
        "import math\n",
        "from math import sin, cos, pi, e, log\n",
        "x = sin(pi/2) - cos(pi)\n",
        "print (x)\n",
        "\n",
        "x = 3\n",
        "x = 4\n",
        "y = ((x ** 2) + (x ** 2)) ** 0.5\n",
        "print (y)\n",
        "\n",
        "x = 𝑒 ** log(10)\n",
        "print (x)"
      ],
      "metadata": {
        "colab": {
          "base_uri": "https://localhost:8080/"
        },
        "id": "0QEvoykxpktQ",
        "outputId": "58dbebf9-9038-4332-9e19-c72b115b7a13"
      },
      "execution_count": 7,
      "outputs": [
        {
          "output_type": "stream",
          "name": "stdout",
          "text": [
            "2.0\n",
            "5.656854249492381\n",
            "10.000000000000002\n"
          ]
        }
      ]
    },
    {
      "cell_type": "code",
      "source": [
        "import numpy as np\n",
        "x = np.array( [ 5, 2, 1 ])\n",
        "print ( x )\n",
        "\n",
        "x = np.array([\n",
        "    [ 5, 2, 1 ],\n",
        "    [ 1, 3, 3 ],\n",
        "    [ 0, -1, -2]\n",
        "    ])\n",
        "print ( x )\n",
        "\n",
        "x = np.array( [5, 2, 1] )\n",
        "print ( x+1 )\n",
        "\n",
        "a = np.array( [ 5, 2, 1 ])\n",
        "b = np.array( [ 3, -4, 8 ])\n",
        "print ( a + b )"
      ],
      "metadata": {
        "colab": {
          "base_uri": "https://localhost:8080/"
        },
        "id": "Tr3JJ2C973y5",
        "outputId": "24ee0630-e01d-4358-d955-0b4739c04587"
      },
      "execution_count": 14,
      "outputs": [
        {
          "output_type": "stream",
          "name": "stdout",
          "text": [
            "[5 2 1]\n",
            "[[ 5  2  1]\n",
            " [ 1  3  3]\n",
            " [ 0 -1 -2]]\n",
            "[6 3 2]\n",
            "[ 8 -2  9]\n"
          ]
        }
      ]
    },
    {
      "cell_type": "code",
      "source": [
        "def myfunction( x ):\n",
        "  return 2*(x - 1) + 5\n",
        "\n",
        "print(myfunction(5))\n",
        "\n",
        "def two_argument_function(a, b):\n",
        "  return b ** a + 1\n",
        "\n",
        "print(two_argument_function(3, 2))\n",
        "\n",
        "def add_vectors(x0, x1):\n",
        "  x0 = np.array(x0)\n",
        "  x1 = np.array(x1)\n",
        "  return x0 + x1\n",
        "\n",
        "print(add_vectors([1, 2, 3], [4, 5, 6]))\n",
        "\n",
        "def lastfunction(a, b, c):\n",
        "  a = np.array(a)\n",
        "  return b*a + [0, c, 0]\n",
        "\n",
        "print (lastfunction([1, 0, 2], 5, 10))"
      ],
      "metadata": {
        "colab": {
          "base_uri": "https://localhost:8080/"
        },
        "id": "ITz0vqz3RPoi",
        "outputId": "a1653a4e-b968-4d30-d2f1-80ea1a99be63"
      },
      "execution_count": 22,
      "outputs": [
        {
          "output_type": "stream",
          "name": "stdout",
          "text": [
            "13\n",
            "9\n",
            "[5 7 9]\n",
            "[ 5 10 10]\n"
          ]
        }
      ]
    }
  ]
}