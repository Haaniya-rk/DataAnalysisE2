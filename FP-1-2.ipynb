{
 "cells": [
  {
   "cell_type": "markdown",
   "metadata": {},
   "source": [
    "___\n",
    "\n",
    "# <span style>Coronary Artery Disease Risk Factors and Prediction</span>\n",
    "\n",
    "\n",
    "### Overview:\n",
    "\n",
    "* **Name**:  <span style>Haaniya Rehan Kamal</span>\n",
    "* **Student number**:  <span style>B990378384</span>\n",
    "\n",
    "<br>"
   ]
  },
  {
   "cell_type": "markdown",
   "metadata": {},
   "source": [
    "### Purpose:\n",
    "\n",
    "* <span style>The purpose of this Final Project is to analyse risk factors of coronary artery disease</span>\n",
    "* <span style>The key **dependent variable** is: Stage of disease </span>\n",
    "* <span style>The key **independent variables** include:\n",
    "* - Age\n",
    "  - sex\n",
    "  - resting blood sugar\n",
    "  - cholesterol level\n",
    "  - fasting blood sugar\n",
    "  - maximum heart rate achieved\n",
    "  - resting electrographic results\n",
    "  - exercise induced enigma\n",
    "  - ST depression\n",
    "  - ST slope\n",
    "  - number of blood vessels coloured\n",
    "  - thalassemia defect type </span>\n",
    "* <span style>There are 297 cases, 1 dependent variable (stage of disease - ie. the presence of disease) and 12 independent variables. The variables are all measured/written in numerical values.</span>\n",
    "\n",
    "<br>"
   ]
  },
  {
   "cell_type": "markdown",
   "metadata": {},
   "source": [
    "### Dataset source:\n",
    "\n",
    "<span style>The data is from a website and databank called Opendatabay which publishes many studies free to use for educational and data analysis purposes. \n",
    "\n",
    "The database website may be accessed here: https://www.opendatabay.com </span>\n",
    "\n",
    "<span style>The dataset can be accessed from [here](https://www.opendatabay.com/data/healthcare/90583ea2-01ae-4654-9e66-028c6b499794)\n",
    "\n",
    "The full dataset requires a log in to download, but the sample of 100 cases is free to download without any registration. </span>\n",
    "\n",
    "<br>\n",
    "<br>\n",
    "<br>\n",
    "<br>"
   ]
  }
 ],
 "metadata": {
  "kernelspec": {
   "display_name": "Python [conda env:base] *",
   "language": "python",
   "name": "conda-base-py"
  },
  "language_info": {
   "codemirror_mode": {
    "name": "ipython",
    "version": 3
   },
   "file_extension": ".py",
   "mimetype": "text/x-python",
   "name": "python",
   "nbconvert_exporter": "python",
   "pygments_lexer": "ipython3",
   "version": "3.13.5"
  }
 },
 "nbformat": 4,
 "nbformat_minor": 4
}
